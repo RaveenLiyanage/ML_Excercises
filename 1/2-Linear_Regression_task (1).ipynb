{
  "metadata": {
    "kernelspec": {
      "name": "python",
      "display_name": "Python (Pyodide)",
      "language": "python"
    },
    "language_info": {
      "codemirror_mode": {
        "name": "python",
        "version": 3
      },
      "file_extension": ".py",
      "mimetype": "text/x-python",
      "name": "python",
      "nbconvert_exporter": "python",
      "pygments_lexer": "ipython3",
      "version": "3.8"
    }
  },
  "nbformat_minor": 4,
  "nbformat": 4,
  "cells": [
    {
      "cell_type": "markdown",
      "source": "# Exercise 2: Linear Regression\n----------\nIn this exercise, you will implement a first machine learning model and learn about the *pandas* and *scikit-learn* libraries.",
      "metadata": {
        "collapsed": false,
        "pycharm": {
          "name": "#%% md\n"
        },
        "jupyter": {
          "outputs_hidden": false
        }
      }
    },
    {
      "cell_type": "markdown",
      "source": "## Dataset\nWe will use a dataset originally published here: [UCI Machine Learning Repository](https://archive.ics.uci.edu/dataset/9/auto+mpg)\n\nDownload the dataset from Moodle. The dataset consists of two files:\n- auto-mpg.data: contains the data\n- auto-mpg.names: contains information about the dataset\n\nThe dataset contains data from 398 different car models. In addition to the car name, it includes information about:\n- fuel consumption in miles per gallon\n- cylinders\n- engine displacement\n- horsepower\n- weight\n- acceleration\n- model year\n- origin\n\nThe goal of this exercise is to predict the fuel consumption of cars using the other available attributes as input to a linear regression algorithm.\n\n## Importing Data with *pandas*\n\nThe *pandas* library is a very important library often used in data science to handle datasets. It includes functions for analyzing, exploring and manipulating data.\nYou can find information about *pandas* on their website: [https://pandas.pydata.org/docs/index.html](https://pandas.pydata.org/docs/index.html)\n\nWhen working with datasets in *pandas*, the data is loaded into a pandas DataFrame, which is a two-dimensional structure similar to a table. In general the columns of the DataFrame refer to the different features of the data set, while the rows represent the instances of the data. *Pandas* provides many ways to manipulate and analyze the data in the DataFrame, e.g. for calculating statistical properties or cleaning the data.\n",
      "metadata": {
        "collapsed": false,
        "pycharm": {
          "name": "#%% md\n"
        },
        "jupyter": {
          "outputs_hidden": false
        }
      }
    },
    {
      "cell_type": "code",
      "source": "import pandas as pd\n\ndata = {\n    \"Height\": [180, 165, 172, 201, 177],\n    \"Weight\": [80, 56, 105, 102, 68],\n    \"Name\": ['Jack', 'John', 'Oliver', 'George', 'William']\n}\n\n# load the data into a data frame\ndataframe = pd.DataFrame(data)\n\nprint(dataframe)",
      "metadata": {
        "collapsed": false,
        "pycharm": {
          "name": "#%%\n"
        },
        "jupyter": {
          "outputs_hidden": false
        },
        "trusted": true
      },
      "outputs": [
        {
          "name": "stderr",
          "text": "<ipython-input-1-d3a535040957>:1: DeprecationWarning: \nPyarrow will become a required dependency of pandas in the next major release of pandas (pandas 3.0),\n(to allow more performant data types, such as the Arrow string type, and better interoperability with other libraries)\nbut was not found to be installed on your system.\nIf this would cause problems for you,\nplease provide us feedback at https://github.com/pandas-dev/pandas/issues/54466\n        \n  import pandas as pd\n",
          "output_type": "stream"
        },
        {
          "name": "stdout",
          "text": "   Height  Weight     Name\n0     180      80     Jack\n1     165      56     John\n2     172     105   Oliver\n3     201     102   George\n4     177      68  William\n",
          "output_type": "stream"
        }
      ],
      "execution_count": 1
    },
    {
      "cell_type": "code",
      "source": "# the info() function gives you a first overview of the data like the number of rows and columns and the data types.\ndataframe.info()",
      "metadata": {
        "collapsed": false,
        "pycharm": {
          "name": "#%%\n"
        },
        "jupyter": {
          "outputs_hidden": false
        }
      },
      "outputs": [
        {
          "name": "stdout",
          "output_type": "stream",
          "text": [
            "<class 'pandas.core.frame.DataFrame'>\n",
            "RangeIndex: 5 entries, 0 to 4\n",
            "Data columns (total 3 columns):\n",
            " #   Column  Non-Null Count  Dtype \n",
            "---  ------  --------------  ----- \n",
            " 0   Height  5 non-null      int64 \n",
            " 1   Weight  5 non-null      int64 \n",
            " 2   Name    5 non-null      object\n",
            "dtypes: int64(2), object(1)\n",
            "memory usage: 248.0+ bytes\n"
          ]
        }
      ],
      "execution_count": 7
    },
    {
      "cell_type": "code",
      "source": "# Select a column of the dataframe\nprint(dataframe['Height'])\n# The result of the selection is a Pandas Series, which is a one-dimensional array\nprint(type(dataframe['Height']))",
      "metadata": {
        "collapsed": false,
        "pycharm": {
          "name": "#%%\n"
        },
        "jupyter": {
          "outputs_hidden": false
        },
        "trusted": true
      },
      "outputs": [
        {
          "name": "stdout",
          "text": "0    180\n1    165\n2    172\n3    201\n4    177\nName: Height, dtype: int64\n<class 'pandas.core.series.Series'>\n",
          "output_type": "stream"
        }
      ],
      "execution_count": 2
    },
    {
      "cell_type": "code",
      "source": "# Select rows and columns of the dataframe using loc\n# input to loc are the labels of the data\nprint(dataframe.loc[0:2,['Weight', 'Name']])",
      "metadata": {
        "collapsed": false,
        "pycharm": {
          "name": "#%%\n"
        },
        "jupyter": {
          "outputs_hidden": false
        }
      },
      "outputs": [
        {
          "name": "stdout",
          "output_type": "stream",
          "text": [
            "   Weight    Name\n",
            "0      80    Jack\n",
            "1      56    John\n",
            "2     105  Oliver\n"
          ]
        }
      ],
      "execution_count": 9
    },
    {
      "cell_type": "code",
      "source": "# select a row of the dataframe using iloc\n# iloc uses integer-based indexing\nprint(dataframe.iloc[0:3,1:3])\n# this gives the same output as the code block above",
      "metadata": {
        "collapsed": false,
        "pycharm": {
          "name": "#%%\n"
        },
        "jupyter": {
          "outputs_hidden": false
        }
      },
      "outputs": [
        {
          "name": "stdout",
          "output_type": "stream",
          "text": [
            "   Weight    Name\n",
            "0      80    Jack\n",
            "1      56    John\n",
            "2     105  Oliver\n"
          ]
        }
      ],
      "execution_count": 10
    },
    {
      "cell_type": "markdown",
      "source": "------\n\n## Task 1: Load data\nLoad the car dataset for this exercise using the read_csv function from *pandas* and take a first look at the data to make sure it loaded properly.",
      "metadata": {
        "collapsed": false,
        "pycharm": {
          "name": "#%% md\n"
        },
        "jupyter": {
          "outputs_hidden": false
        }
      }
    },
    {
      "cell_type": "code",
      "source": "file_path_1 = 'auto-mpg.data'\nraw_data_1 = pd.read_csv(file_path_1, delimiter='\\t', header=None)\nprint(raw_data_1.iloc[0:398,0])\nprint(raw_data_1.shape)\n\n\ndf = pd.DataFrame(raw_data_1, columns=('mpg', 'cylinders', 'displacement', 'horsepower', 'weight', 'acceleration', 'model year', 'origin', 'car name'))\n#df = raw_data_1.copy()\nprint(df.axes)\n#df.columns = column_names\nprint(type(raw_data_1))\nprint( df)",
      "metadata": {
        "collapsed": false,
        "pycharm": {
          "name": "#%%\n"
        },
        "jupyter": {
          "outputs_hidden": false
        },
        "trusted": true
      },
      "outputs": [
        {
          "name": "stdout",
          "text": "0      18.0   8   307.0      130.0      3504.      12...\n1      15.0   8   350.0      165.0      3693.      11...\n2      18.0   8   318.0      150.0      3436.      11...\n3      16.0   8   304.0      150.0      3433.      12...\n4      17.0   8   302.0      140.0      3449.      10...\n                             ...                        \n393    27.0   4   140.0      86.00      2790.      15...\n394    44.0   4   97.00      52.00      2130.      24...\n395    32.0   4   135.0      84.00      2295.      11...\n396    28.0   4   120.0      79.00      2625.      18...\n397    31.0   4   119.0      82.00      2720.      19...\nName: 0, Length: 398, dtype: object\n(398, 2)\n[RangeIndex(start=0, stop=398, step=1), Index(['mpg', 'cylinders', 'displacement', 'horsepower', 'weight',\n       'acceleration', 'model year', 'origin', 'car name'],\n      dtype='object')]\n<class 'pandas.core.frame.DataFrame'>\n     mpg  cylinders  displacement  horsepower  weight  acceleration  \\\n0    NaN        NaN           NaN         NaN     NaN           NaN   \n1    NaN        NaN           NaN         NaN     NaN           NaN   \n2    NaN        NaN           NaN         NaN     NaN           NaN   \n3    NaN        NaN           NaN         NaN     NaN           NaN   \n4    NaN        NaN           NaN         NaN     NaN           NaN   \n..   ...        ...           ...         ...     ...           ...   \n393  NaN        NaN           NaN         NaN     NaN           NaN   \n394  NaN        NaN           NaN         NaN     NaN           NaN   \n395  NaN        NaN           NaN         NaN     NaN           NaN   \n396  NaN        NaN           NaN         NaN     NaN           NaN   \n397  NaN        NaN           NaN         NaN     NaN           NaN   \n\n     model year  origin  car name  \n0           NaN     NaN       NaN  \n1           NaN     NaN       NaN  \n2           NaN     NaN       NaN  \n3           NaN     NaN       NaN  \n4           NaN     NaN       NaN  \n..          ...     ...       ...  \n393         NaN     NaN       NaN  \n394         NaN     NaN       NaN  \n395         NaN     NaN       NaN  \n396         NaN     NaN       NaN  \n397         NaN     NaN       NaN  \n\n[398 rows x 9 columns]\n",
          "output_type": "stream"
        }
      ],
      "execution_count": 63
    },
    {
      "cell_type": "markdown",
      "source": "## Task 2: Clean data\n\nAs described in the auto-mpg.names file, there are six missing horsepower values in the data set. For this exercise, we will ignore the six cars with this missing information. Use *pandas* to find and delete the six instances with missing horsepower information.",
      "metadata": {
        "collapsed": false,
        "pycharm": {
          "name": "#%% md\n"
        },
        "jupyter": {
          "outputs_hidden": false
        }
      }
    },
    {
      "cell_type": "code",
      "source": "missing_rows = df[df.isnull().all(axis=1)]\nprint(missing_rows)",
      "metadata": {
        "collapsed": false,
        "pycharm": {
          "name": "#%%\n"
        },
        "jupyter": {
          "outputs_hidden": false
        },
        "trusted": true
      },
      "outputs": [
        {
          "name": "stdout",
          "text": "Empty DataFrame\nColumns: [0, 1]\nIndex: []\n",
          "output_type": "stream"
        }
      ],
      "execution_count": 23
    },
    {
      "cell_type": "markdown",
      "source": "## Task 3: Linear Regression\n\nYour task is to predict the fuel consumption of the cars in miles per gallon. Use the linear regression formula $\\beta = (X^{T}X)^{-1}X^{T}y$ from the lecture to complete this task. Select the available numeric features cylinders, displacement, horsepower, weight, acceleration, model year and origin as input features.\n\nCalculate the root mean square error of your prediction.",
      "metadata": {
        "collapsed": false,
        "pycharm": {
          "name": "#%% md\n"
        },
        "jupyter": {
          "outputs_hidden": false
        }
      }
    },
    {
      "cell_type": "code",
      "source": "",
      "metadata": {
        "collapsed": false,
        "pycharm": {
          "name": "#%%\n"
        },
        "jupyter": {
          "outputs_hidden": false
        }
      },
      "outputs": [],
      "execution_count": 9
    },
    {
      "cell_type": "markdown",
      "source": "-------------\n\n## Scikit-Learn\n\nAs seen in Task 3, the linear regression model can be easily implemented in Python. For more complex algorithms, it makes sense to use existing libraries. *scikit-learn* is a very useful library for machine learning. With the help of *scikit-learn*, many machine learning models can be easily implemented. It also includes methods to transform and pre-process data before applying the machine learning algorithm and can also be used for evaluation.\n\nFor example, a linear regression model can be implemented as shown in the following code block.",
      "metadata": {
        "collapsed": false,
        "pycharm": {
          "name": "#%% md\n"
        },
        "jupyter": {
          "outputs_hidden": false
        }
      }
    },
    {
      "cell_type": "code",
      "source": "# import scikit-learn\nfrom sklearn.linear_model import LinearRegression\nimport numpy as np\n\n# data set\nx = np.transpose(np.array([[1,2,3,4,5,6,7,8]]))\ny = np.transpose(np.array([3,4.5,5.8,7,10,13,14.6,16]))\n\n# define a linear model and fit it to the given data\nlm = LinearRegression(fit_intercept=True).fit(x,y)\n\n# print the coefficients of the linear model\nprint(lm.intercept_, lm.coef_)\n\n# calculate the predicted values\ny_pred = lm.predict(x)\n\n# calculate the root mean square error\nfrom sklearn.metrics import mean_squared_error\nrmse = mean_squared_error(y, y_pred, squared=False)\nprint('The root mean squared error is {:.2f}'.format(rmse))",
      "metadata": {
        "collapsed": false,
        "pycharm": {
          "name": "#%%\n"
        },
        "jupyter": {
          "outputs_hidden": false
        }
      },
      "outputs": [
        {
          "name": "stdout",
          "output_type": "stream",
          "text": [
            "0.3392857142857153 [1.97738095]\n",
            "The root mean squared error is 0.63\n"
          ]
        }
      ],
      "execution_count": 11
    },
    {
      "cell_type": "markdown",
      "source": "--------------\n## Task 4: Optimization and Evaluation\n\nIn this task, we want to compare the results of the classical linear regression that we implemented above with the results of a lasso approach. In order to compare the results on unseen data, we have to define a training and a test data set.\n\na) Use the *scikit-learn* function \"train_test_split\" to split the data into the two sets. Choose a size of 70% for the training data and 30% for the test data.",
      "metadata": {
        "collapsed": false,
        "pycharm": {
          "name": "#%% md\n"
        },
        "jupyter": {
          "outputs_hidden": false
        }
      }
    },
    {
      "cell_type": "code",
      "source": "",
      "metadata": {
        "collapsed": false,
        "pycharm": {
          "name": "#%%\n"
        },
        "jupyter": {
          "outputs_hidden": false
        }
      },
      "outputs": [],
      "execution_count": 14
    },
    {
      "cell_type": "markdown",
      "source": "b) Learn the classic linear regression model on the training dataset and evaluate its performance on the training and test datasets using the root mean square error as the evaluation metric.",
      "metadata": {
        "collapsed": false,
        "pycharm": {
          "name": "#%% md\n"
        },
        "jupyter": {
          "outputs_hidden": false
        }
      }
    },
    {
      "cell_type": "code",
      "source": "",
      "metadata": {
        "collapsed": false,
        "pycharm": {
          "name": "#%%\n"
        },
        "jupyter": {
          "outputs_hidden": false
        }
      },
      "outputs": [],
      "execution_count": null
    },
    {
      "cell_type": "markdown",
      "source": "c) Learn a linear regression model with lasso regularization on the training dataset and evaluate its performance on the training and test datasets using the root mean square error as the evaluation metric. Use the \"Lasso\" module from *scikit-learn* to perform this task and set the alpha-value to 1. Compare the model coefficients and the performance with the classic linear regression approach from above. Which of the models seems to be better suited for the given task?",
      "metadata": {
        "collapsed": false,
        "pycharm": {
          "name": "#%% md\n"
        },
        "jupyter": {
          "outputs_hidden": false
        }
      }
    },
    {
      "cell_type": "code",
      "source": "",
      "metadata": {
        "collapsed": false,
        "pycharm": {
          "name": "#%%\n"
        },
        "jupyter": {
          "outputs_hidden": false
        }
      },
      "outputs": [],
      "execution_count": null
    },
    {
      "cell_type": "markdown",
      "source": "d) Perform a hyperparameter optimization for the Lasso approach by trying different values for the hyperparameter alpha. Evaluate the performance and find the alpha value with the best performance.",
      "metadata": {
        "collapsed": false,
        "pycharm": {
          "name": "#%% md\n"
        },
        "jupyter": {
          "outputs_hidden": false
        }
      }
    },
    {
      "cell_type": "code",
      "source": "",
      "metadata": {
        "collapsed": false,
        "pycharm": {
          "name": "#%%\n"
        },
        "jupyter": {
          "outputs_hidden": false
        }
      },
      "outputs": [],
      "execution_count": null
    }
  ]
}